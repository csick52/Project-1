{
 "cells": [
  {
   "cell_type": "code",
   "execution_count": 1,
   "metadata": {},
   "outputs": [],
   "source": [
    "import pandas as pd\n",
    "import json\n",
    "import spotipy\n",
    "from spotipy.oauth2 import SpotifyClientCredentials\n",
    "\n",
    "#Credentials\n",
    "#EDIT WITH YOUR KEYS FROM YOU CONFIG FILE\n",
    "from keys import client_id\n",
    "from keys import client_id_secret\n",
    "client_id=client_id\n",
    "client_secret=client_id_secret\n",
    "\n",
    "client_credentials_manager = SpotifyClientCredentials(client_id, client_secret)\n",
    "sp = spotipy.Spotify(client_credentials_manager=client_credentials_manager)\n",
    "\n"
   ]
  },
  {
   "cell_type": "code",
   "execution_count": 29,
   "metadata": {},
   "outputs": [],
   "source": []
  },
  {
   "cell_type": "code",
   "execution_count": 2,
   "metadata": {
    "scrolled": false
   },
   "outputs": [
    {
     "name": "stdout",
     "output_type": "stream",
     "text": [
      "   1 spotify:user:spotify:playlist:37i9dQZF1DXcBWIGoYBM5M Today's Top Hits\n",
      "   2 spotify:user:spotify:playlist:37i9dQZF1DX0XUsuxWHRQd RapCaviar\n",
      "   3 spotify:user:spotify:playlist:37i9dQZF1DX4dyzvuaRJ0n mint\n",
      "   4 spotify:user:spotify:playlist:37i9dQZF1DX4SBhb3fqCJd Are & Be\n",
      "   5 spotify:user:spotify:playlist:37i9dQZF1DXcF6B6QPhFDv Rock This\n",
      "   6 spotify:user:spotify:playlist:37i9dQZF1DX1lVhptIYRda Hot Country\n",
      "   7 spotify:user:spotify:playlist:37i9dQZF1DX10zKzsJ2jva ¡Viva Latino!\n",
      "   8 spotify:user:spotify:playlist:37i9dQZF1DX4JAvHpjipBk New Music Friday\n",
      "   9 spotify:user:spotify:playlist:37i9dQZF1DX4E3UdUs7fUx Afternoon Acoustic\n",
      "  10 spotify:user:spotify:playlist:37i9dQZF1DX4sWSpwq3LiO Peaceful Piano\n",
      "  11 spotify:user:spotify:playlist:37i9dQZF1DWYV7OOaGhoH0 Roots Rising\n",
      "  12 spotify:user:spotify:playlist:5JdIoXkjfuyWmDdDnznmq1 Lost In Austin: Country Music from SXSW\n",
      "  13 spotify:user:spotify:playlist:37i9dQZF1DX5PuwKY2VZBZ SXSW: HipHopUpNext\n",
      "  14 spotify:user:spotify:playlist:37i9dQZF1DWXJfnUiYjUKT New Music Friday\n",
      "  15 spotify:user:spotify:playlist:4HghCZXykAY0kdRqJipQJd Music Inspired By Mogul\n",
      "  16 spotify:user:spotify:playlist:1LYK2ahDnbLnS4fddCFY7z SXSW 2017: Daily Guide\n",
      "  17 spotify:user:spotify:playlist:37i9dQZF1DXcRXFNfZr7Tp TGIF\n",
      "  18 spotify:user:spotify:playlist:37i9dQZF1DWY7uXxMycXfq Women of Experimental\n",
      "  19 spotify:user:spotify:playlist:37i9dQZF1DX1328t2iygZy We Here\n",
      "  20 spotify:user:spotify:playlist:37i9dQZF1DX1wvY0jqbS55 This Is: Jason Isbell\n",
      "  21 spotify:user:spotify:playlist:37i9dQZF1DWVs8I62NcHks This Is Disney\n",
      "  22 spotify:user:spotify:playlist:37i9dQZF1DX95gx8SY6DLX This Is The Doors\n",
      "  23 spotify:user:spotify:playlist:37i9dQZF1DXec50AjHrNTq This Is AC/DC\n",
      "  24 spotify:user:spotify:playlist:37i9dQZF1DWZUozJiHy44Y This Is Adele\n",
      "  25 spotify:user:spotify:playlist:37i9dQZF1DWZMCPjHG57gq This Is Al Green\n",
      "  26 spotify:user:spotify:playlist:37i9dQZF1DWXMmak2OV7PN This Is alt-J\n",
      "  27 spotify:user:spotify:playlist:37i9dQZF1DX3reMgdkcDa4 This Is: Aqua\n",
      "  28 spotify:user:spotify:playlist:37i9dQZF1DX6bJVMtDYJHx This Is Aretha Franklin\n",
      "  29 spotify:user:spotify:playlist:37i9dQZF1DWZvGllBOMzci This Is Bee Gees\n",
      "  30 spotify:user:spotify:playlist:37i9dQZF1DX4EKARgqYPFZ This Is blink-182\n",
      "  31 spotify:user:spotify:playlist:37i9dQZF1DX177vQ7mVRmP This Is Bruno Mars\n",
      "  32 spotify:user:spotify:playlist:37i9dQZF1DX6GiJlVeD6Ou This is: Carole King\n",
      "  33 spotify:user:spotify:playlist:37i9dQZF1DX5WtNRbfbuUo This is: Deep Purple\n",
      "  34 spotify:user:spotify:playlist:37i9dQZF1DX3BSwupE5hR7 This Is Depeche Mode\n",
      "  35 spotify:user:spotify:playlist:37i9dQZF1DWVRrLXgTbWFy This Is: Dispatch\n",
      "  36 spotify:user:spotify:playlist:37i9dQZF1DWWxPM4nWdhyI This Is Ed Sheeran\n",
      "  37 spotify:user:spotify:playlist:37i9dQZF1DWVstK6FYh8Nw This Is Future\n",
      "  38 spotify:user:spotify:playlist:37i9dQZF1DXcIVSTUG9zAG This Is: George Michael\n",
      "  39 spotify:user:spotify:playlist:37i9dQZF1DWUifRttnt99X This Is: Gillian Welch\n",
      "  40 spotify:user:spotify:playlist:37i9dQZF1DX3Csy1LFxjkI This Is James Arthur\n",
      "  41 spotify:user:spotify:playlist:37i9dQZF1DX9OTdoPfdJpF This is: Jamiroquai\n",
      "  42 spotify:user:spotify:playlist:37i9dQZF1DWYrlaUEYy4Vg This Is John Mayer\n",
      "  43 spotify:user:spotify:playlist:37i9dQZF1DX8DxW4iib3Eq This Is: John Legend\n",
      "  44 spotify:user:spotify:playlist:37i9dQZF1DXc2aPBXGmXrt This Is Justin Bieber\n",
      "  45 spotify:user:spotify:playlist:37i9dQZF1DXc7FZ2VBjaeT This Is Lady Gaga\n",
      "  46 spotify:user:spotify:playlist:37i9dQZF1DX1xlmTNXq2Qg This Is LANY\n",
      "  47 spotify:user:spotify:playlist:37i9dQZF1DX3Hdbt1R3mYP This Is Laura Marling\n",
      "  48 spotify:user:spotify:playlist:37i9dQZF1DWULYh276RumE This Is:  Miranda Lambert\n",
      "  49 spotify:user:spotify:playlist:37i9dQZF1DWTG97QsiXgEX This Is Muse\n",
      "  50 spotify:user:spotify:playlist:37i9dQZF1DWT6VDwxLyl0W This Is Neil Young\n"
     ]
    }
   ],
   "source": [
    "playlists = sp.user_playlists(\"spotify\")\n",
    "\n",
    "playlist_ids=[]\n",
    "playlist_names=[]\n",
    "playlist_users=[]\n",
    "\n",
    "while playlists:\n",
    "    for i, playlist in enumerate(playlists['items']):\n",
    "        print(\"%4d %s %s\" % (i + 1 + playlists['offset'], playlist['uri'],  playlist['name']))\n",
    "        playlist_ids.append(playlist['id'])\n",
    "        playlist_names.append(playlist['name'])\n",
    "        playlist_users.append(playlist['owner']['id'])\n",
    "        playlist\n",
    "        \n",
    "    if playlists['next']:\n",
    "        playlists = sp.next(playlists)\n",
    "        \n",
    "    else:\n",
    "        playlists = None\n",
    "    \n",
    "    break"
   ]
  },
  {
   "cell_type": "code",
   "execution_count": null,
   "metadata": {},
   "outputs": [],
   "source": []
  },
  {
   "cell_type": "code",
   "execution_count": 17,
   "metadata": {},
   "outputs": [],
   "source": [
    "#Perform Request to Retrieve Track Information using Username and Playlist id\n",
    "for playlist in playlists:\n",
    "    user=playlists[playlist]\n",
    "    playlist1=sp.user_playlist_tracks(user=\"snoblock\", playlist_id=\"08JOntGIf21eaVQ35c0Lwy\", fields=None, limit=100, offset=0, market=None)"
   ]
  },
  {
   "cell_type": "code",
   "execution_count": null,
   "metadata": {},
   "outputs": [],
   "source": []
  },
  {
   "cell_type": "code",
   "execution_count": 10,
   "metadata": {},
   "outputs": [],
   "source": [
    "# Get track listing from a playlist (Rock This)\n",
    "# Retrieving track id's and placing in list\n",
    "\n",
    "rockThis_id = \"37i9dQZF1DXcF6B6QPhFDv\"\n",
    "\n",
    "playlist1 = sp.user_playlist_tracks(user=\"spotify\", playlist_id=rockThis_id, fields=None, limit=100, offset=0, market=None)\n",
    "\n",
    "song_ids = []\n",
    "for i in range(len(playlist1[\"items\"])):\n",
    "    song_id = playlist1[\"items\"][i][\"track\"][\"id\"]\n",
    "    song_ids.append(song_id)"
   ]
  },
  {
   "cell_type": "code",
   "execution_count": null,
   "metadata": {},
   "outputs": [],
   "source": []
  },
  {
   "cell_type": "code",
   "execution_count": 11,
   "metadata": {},
   "outputs": [
    {
     "data": {
      "text/plain": [
       "['3lCfyDeaEYxEvJSnhv1ek3',\n",
       " '03CbQgFxnBFoaaVJTfEqMD',\n",
       " '1Yi8XPnCPoimWwqxwm3uz9',\n",
       " '5IPT4Noqvo7bsfbWUOHcG4',\n",
       " '0KcHwAnK9I7ieGVaRJICxT',\n",
       " '3NyovXfcpc8PDWWKH7xEDs',\n",
       " '6xCHPen14yg3lJrg7mWf10',\n",
       " '2CEjWJ4lPiodKXXS2bhVyP',\n",
       " '7qHPOydWy2c3iKsibA31ch',\n",
       " '2gLkzq894rt2gR4lvZpqE5',\n",
       " '6wpHmxmxPa3N3Gi3aGdTJL',\n",
       " '5xlUcf5txiXDgPleHzkm8s',\n",
       " '1OKQIvaO7yn7R2BpdUFG7D',\n",
       " '7DPQwyMQADl9Y8oSvSVpfg',\n",
       " '6u4IPQPDP1sJMEUA4xqIi5',\n",
       " '03kgiS0813IuHfVMZix7hT',\n",
       " '2mVFo8BJ6ZPh82QAOpCUbT',\n",
       " '38qsRkTKBEHhy8DEfT3vig',\n",
       " '3ZZKg4Xt5PNtihSJS722JS',\n",
       " '64gbzSMPloO2SNBTk3PG3h',\n",
       " '6YQUuoMnRIMaOmouYoMfQr',\n",
       " '1SNipdzMky2C2LwvoVRzsv',\n",
       " '7dNDyDsDdN2X2n0cWIon5e',\n",
       " '4E3WT2j2DDQG3QPVCevYEK',\n",
       " '4sx0VBcGm3TSIwfTcmFOgc',\n",
       " '7vIdRrMklCkr8fwP6kvw3m',\n",
       " '7KLmBGIrxaOaoTcUQrLKub',\n",
       " '74drJLr20XF1f4yqyNPRSZ',\n",
       " '5N7bNQxsnCBsHsYqyiKVO4',\n",
       " '27wvnSTpsyS9k06aDtXvt8',\n",
       " '6Y7vgyXBoedIKgvmZSYXMw',\n",
       " '2nqwxzn7svkN30dVGbXdWf',\n",
       " '1rqqCSm0Qe4I9rUvWncaom',\n",
       " '3hQyytc08DLPP6vh7BX89p',\n",
       " '1pbyc2rbpwxZjCbKC2X7UV',\n",
       " '1YFxTkX1asVS76GynrhCjO',\n",
       " '223Ng7eyUcCmFwX9lZdqjD',\n",
       " '5YVMcqVtrNuy41qRyu55ag',\n",
       " '3RJXIte2IV8xArJYKD5qrf',\n",
       " '1rFAG22RkvaM6BlpWQoZ47',\n",
       " '3ZCTAoFsYaWTWGX8IH07Cf',\n",
       " '2sHPKFtVy4Etpumo9Z9psd',\n",
       " '6GC9ktyFFHVaFA1qlE2zzi',\n",
       " '6QKtCL5SUseSpvEMJpJPOa',\n",
       " '7jmu6smJmTbwuos76ncNZ8',\n",
       " '0ORgAzmFh8N97SseJvmqgC',\n",
       " '11FvComd16zZX61DrlP3o1',\n",
       " '4ikBDu58f3peRVRsXxuP2Q',\n",
       " '6oe2HcrgnNU66Eyq8BY45Z',\n",
       " '40n8ZJVmwkdNAUBZSv8Xhg',\n",
       " '60FJeNTK5edr72G2xtCWuP']"
      ]
     },
     "execution_count": 11,
     "metadata": {},
     "output_type": "execute_result"
    }
   ],
   "source": [
    "song_ids"
   ]
  },
  {
   "cell_type": "code",
   "execution_count": 18,
   "metadata": {},
   "outputs": [],
   "source": [
    "danceability = []\n",
    "energy = []\n",
    "speechiness = []\n",
    "acousticness = []\n",
    "tempo = []\n",
    "\n",
    "# Loop though list of song id's\n",
    "for track in song_ids:\n",
    "    track_features = sp.audio_features(tracks = track)\n",
    "    \n",
    "    # Append audio features to respective lists\n",
    "    danceability.append(track_features[0][\"danceability\"])\n",
    "    energy.append(track_features[0][\"energy\"])\n",
    "    speechiness.append(track_features[0][\"speechiness\"])\n",
    "    acousticness.append(track_features[0][\"acousticness\"])\n",
    "    tempo.append(track_features[0][\"tempo\"])\n",
    "    \n"
   ]
  },
  {
   "cell_type": "code",
   "execution_count": 16,
   "metadata": {},
   "outputs": [
    {
     "data": {
      "text/plain": [
       "[{'danceability': 0.505,\n",
       "  'energy': 0.911,\n",
       "  'key': 10,\n",
       "  'loudness': -3.006,\n",
       "  'mode': 0,\n",
       "  'speechiness': 0.0624,\n",
       "  'acousticness': 0.0315,\n",
       "  'instrumentalness': 1.83e-05,\n",
       "  'liveness': 0.0745,\n",
       "  'valence': 0.281,\n",
       "  'tempo': 81.978,\n",
       "  'type': 'audio_features',\n",
       "  'id': '3lCfyDeaEYxEvJSnhv1ek3',\n",
       "  'uri': 'spotify:track:3lCfyDeaEYxEvJSnhv1ek3',\n",
       "  'track_href': 'https://api.spotify.com/v1/tracks/3lCfyDeaEYxEvJSnhv1ek3',\n",
       "  'analysis_url': 'https://api.spotify.com/v1/audio-analysis/3lCfyDeaEYxEvJSnhv1ek3',\n",
       "  'duration_ms': 236283,\n",
       "  'time_signature': 4}]"
      ]
     },
     "execution_count": 16,
     "metadata": {},
     "output_type": "execute_result"
    }
   ],
   "source": [
    "track_features = sp.audio_features(tracks=\"3lCfyDeaEYxEvJSnhv1ek3\")\n",
    "track_features"
   ]
  },
  {
   "cell_type": "code",
   "execution_count": 17,
   "metadata": {},
   "outputs": [
    {
     "data": {
      "text/plain": [
       "-3.006"
      ]
     },
     "execution_count": 17,
     "metadata": {},
     "output_type": "execute_result"
    }
   ],
   "source": [
    "track_features[0][\"loudness\"]"
   ]
  },
  {
   "cell_type": "code",
   "execution_count": 19,
   "metadata": {},
   "outputs": [
    {
     "data": {
      "text/plain": [
       "[0.0624,\n",
       " 0.0396,\n",
       " 0.0388,\n",
       " 0.0346,\n",
       " 0.0396,\n",
       " 0.065,\n",
       " 0.0689,\n",
       " 0.0378,\n",
       " 0.293,\n",
       " 0.0373,\n",
       " 0.231,\n",
       " 0.0342,\n",
       " 0.0623,\n",
       " 0.0323,\n",
       " 0.259,\n",
       " 0.0305,\n",
       " 0.0507,\n",
       " 0.0366,\n",
       " 0.0315,\n",
       " 0.0386,\n",
       " 0.0303,\n",
       " 0.0979,\n",
       " 0.043,\n",
       " 0.0337,\n",
       " 0.042,\n",
       " 0.0767,\n",
       " 0.0368,\n",
       " 0.0431,\n",
       " 0.0292,\n",
       " 0.078,\n",
       " 0.109,\n",
       " 0.0432,\n",
       " 0.0618,\n",
       " 0.0431,\n",
       " 0.0566,\n",
       " 0.044,\n",
       " 0.164,\n",
       " 0.209,\n",
       " 0.154,\n",
       " 0.168,\n",
       " 0.232,\n",
       " 0.0943,\n",
       " 0.0648,\n",
       " 0.0926,\n",
       " 0.0367,\n",
       " 0.0357,\n",
       " 0.0523,\n",
       " 0.164,\n",
       " 0.0488,\n",
       " 0.0915,\n",
       " 0.078]"
      ]
     },
     "execution_count": 19,
     "metadata": {},
     "output_type": "execute_result"
    }
   ],
   "source": [
    "speechiness"
   ]
  },
  {
   "cell_type": "code",
   "execution_count": null,
   "metadata": {},
   "outputs": [],
   "source": []
  }
 ],
 "metadata": {
  "kernelspec": {
   "display_name": "Python 3",
   "language": "python",
   "name": "python3"
  },
  "language_info": {
   "codemirror_mode": {
    "name": "ipython",
    "version": 3
   },
   "file_extension": ".py",
   "mimetype": "text/x-python",
   "name": "python",
   "nbconvert_exporter": "python",
   "pygments_lexer": "ipython3",
   "version": "3.7.0"
  }
 },
 "nbformat": 4,
 "nbformat_minor": 2
}
