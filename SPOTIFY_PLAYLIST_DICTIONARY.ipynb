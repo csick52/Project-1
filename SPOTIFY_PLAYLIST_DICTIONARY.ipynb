{
 "cells": [
  {
   "cell_type": "code",
   "execution_count": 50,
   "metadata": {},
   "outputs": [],
   "source": [
    "import pandas as pd\n",
    "import json\n",
    "import spotipy\n",
    "from spotipy.oauth2 import SpotifyClientCredentials\n",
    "\n",
    "#Credentials\n",
    "#EDIT WITH YOUR KEYS FROM YOU CONFIG FILE\n",
    "from keys import client_id\n",
    "from keys import client_id_secret\n",
    "client_id=client_id\n",
    "client_secret=client_id_secret\n",
    "\n",
    "client_credentials_manager = SpotifyClientCredentials(client_id, client_secret)\n",
    "sp = spotipy.Spotify(client_credentials_manager=client_credentials_manager)"
   ]
  },
  {
   "cell_type": "code",
   "execution_count": 53,
   "metadata": {},
   "outputs": [
    {
     "name": "stdout",
     "output_type": "stream",
     "text": [
      "TypeError, skipping\n",
      "TypeError, skipping\n",
      "TypeError, skipping\n",
      "TypeError, skipping\n",
      "TypeError, skipping\n",
      "TypeError, skipping\n",
      "TypeError, skipping\n",
      "TypeError, skipping\n"
     ]
    },
    {
     "ename": "JSONDecodeError",
     "evalue": "Expecting value: line 2 column 1 (char 1)",
     "output_type": "error",
     "traceback": [
      "\u001b[0;31m---------------------------------------------------------------------------\u001b[0m",
      "\u001b[0;31mJSONDecodeError\u001b[0m                           Traceback (most recent call last)",
      "\u001b[0;32m<ipython-input-53-2f3c05ad2b19>\u001b[0m in \u001b[0;36m<module>\u001b[0;34m()\u001b[0m\n\u001b[1;32m     64\u001b[0m     \u001b[0;31m# Loop though list of song ID's\u001b[0m\u001b[0;34m\u001b[0m\u001b[0;34m\u001b[0m\u001b[0m\n\u001b[1;32m     65\u001b[0m     \u001b[0;32mfor\u001b[0m \u001b[0mtrack\u001b[0m \u001b[0;32min\u001b[0m \u001b[0msong_ids\u001b[0m\u001b[0;34m:\u001b[0m\u001b[0;34m\u001b[0m\u001b[0m\n\u001b[0;32m---> 66\u001b[0;31m         \u001b[0mtrack_features\u001b[0m \u001b[0;34m=\u001b[0m \u001b[0msp\u001b[0m\u001b[0;34m.\u001b[0m\u001b[0maudio_features\u001b[0m\u001b[0;34m(\u001b[0m\u001b[0mtracks\u001b[0m \u001b[0;34m=\u001b[0m \u001b[0mtrack\u001b[0m\u001b[0;34m)\u001b[0m\u001b[0;34m\u001b[0m\u001b[0m\n\u001b[0m\u001b[1;32m     67\u001b[0m \u001b[0;34m\u001b[0m\u001b[0m\n\u001b[1;32m     68\u001b[0m         \u001b[0;31m# Append audio features to respective lists\u001b[0m\u001b[0;34m\u001b[0m\u001b[0;34m\u001b[0m\u001b[0m\n",
      "\u001b[0;32m~/anaconda3/lib/python3.7/site-packages/spotipy/client.py\u001b[0m in \u001b[0;36maudio_features\u001b[0;34m(self, tracks)\u001b[0m\n\u001b[1;32m    824\u001b[0m         \u001b[0;32mif\u001b[0m \u001b[0misinstance\u001b[0m\u001b[0;34m(\u001b[0m\u001b[0mtracks\u001b[0m\u001b[0;34m,\u001b[0m \u001b[0mstr\u001b[0m\u001b[0;34m)\u001b[0m\u001b[0;34m:\u001b[0m\u001b[0;34m\u001b[0m\u001b[0m\n\u001b[1;32m    825\u001b[0m             \u001b[0mtrackid\u001b[0m \u001b[0;34m=\u001b[0m \u001b[0mself\u001b[0m\u001b[0;34m.\u001b[0m\u001b[0m_get_id\u001b[0m\u001b[0;34m(\u001b[0m\u001b[0;34m'track'\u001b[0m\u001b[0;34m,\u001b[0m \u001b[0mtracks\u001b[0m\u001b[0;34m)\u001b[0m\u001b[0;34m\u001b[0m\u001b[0m\n\u001b[0;32m--> 826\u001b[0;31m             \u001b[0mresults\u001b[0m \u001b[0;34m=\u001b[0m \u001b[0mself\u001b[0m\u001b[0;34m.\u001b[0m\u001b[0m_get\u001b[0m\u001b[0;34m(\u001b[0m\u001b[0;34m'audio-features/?ids='\u001b[0m \u001b[0;34m+\u001b[0m \u001b[0mtrackid\u001b[0m\u001b[0;34m)\u001b[0m\u001b[0;34m\u001b[0m\u001b[0m\n\u001b[0m\u001b[1;32m    827\u001b[0m         \u001b[0;32melse\u001b[0m\u001b[0;34m:\u001b[0m\u001b[0;34m\u001b[0m\u001b[0m\n\u001b[1;32m    828\u001b[0m             \u001b[0mtlist\u001b[0m \u001b[0;34m=\u001b[0m \u001b[0;34m[\u001b[0m\u001b[0mself\u001b[0m\u001b[0;34m.\u001b[0m\u001b[0m_get_id\u001b[0m\u001b[0;34m(\u001b[0m\u001b[0;34m'track'\u001b[0m\u001b[0;34m,\u001b[0m \u001b[0mt\u001b[0m\u001b[0;34m)\u001b[0m \u001b[0;32mfor\u001b[0m \u001b[0mt\u001b[0m \u001b[0;32min\u001b[0m \u001b[0mtracks\u001b[0m\u001b[0;34m]\u001b[0m\u001b[0;34m\u001b[0m\u001b[0m\n",
      "\u001b[0;32m~/anaconda3/lib/python3.7/site-packages/spotipy/client.py\u001b[0m in \u001b[0;36m_get\u001b[0;34m(self, url, args, payload, **kwargs)\u001b[0m\n\u001b[1;32m    144\u001b[0m         \u001b[0;32mwhile\u001b[0m \u001b[0mretries\u001b[0m \u001b[0;34m>\u001b[0m \u001b[0;36m0\u001b[0m\u001b[0;34m:\u001b[0m\u001b[0;34m\u001b[0m\u001b[0m\n\u001b[1;32m    145\u001b[0m             \u001b[0;32mtry\u001b[0m\u001b[0;34m:\u001b[0m\u001b[0;34m\u001b[0m\u001b[0m\n\u001b[0;32m--> 146\u001b[0;31m                 \u001b[0;32mreturn\u001b[0m \u001b[0mself\u001b[0m\u001b[0;34m.\u001b[0m\u001b[0m_internal_call\u001b[0m\u001b[0;34m(\u001b[0m\u001b[0;34m'GET'\u001b[0m\u001b[0;34m,\u001b[0m \u001b[0murl\u001b[0m\u001b[0;34m,\u001b[0m \u001b[0mpayload\u001b[0m\u001b[0;34m,\u001b[0m \u001b[0mkwargs\u001b[0m\u001b[0;34m)\u001b[0m\u001b[0;34m\u001b[0m\u001b[0m\n\u001b[0m\u001b[1;32m    147\u001b[0m             \u001b[0;32mexcept\u001b[0m \u001b[0mSpotifyException\u001b[0m \u001b[0;32mas\u001b[0m \u001b[0me\u001b[0m\u001b[0;34m:\u001b[0m\u001b[0;34m\u001b[0m\u001b[0m\n\u001b[1;32m    148\u001b[0m                 \u001b[0mretries\u001b[0m \u001b[0;34m-=\u001b[0m \u001b[0;36m1\u001b[0m\u001b[0;34m\u001b[0m\u001b[0m\n",
      "\u001b[0;32m~/anaconda3/lib/python3.7/site-packages/spotipy/client.py\u001b[0m in \u001b[0;36m_internal_call\u001b[0;34m(self, method, url, payload, params)\u001b[0m\n\u001b[1;32m    121\u001b[0m             \u001b[0;32mif\u001b[0m \u001b[0mr\u001b[0m\u001b[0;34m.\u001b[0m\u001b[0mtext\u001b[0m \u001b[0;32mand\u001b[0m \u001b[0mlen\u001b[0m\u001b[0;34m(\u001b[0m\u001b[0mr\u001b[0m\u001b[0;34m.\u001b[0m\u001b[0mtext\u001b[0m\u001b[0;34m)\u001b[0m \u001b[0;34m>\u001b[0m \u001b[0;36m0\u001b[0m \u001b[0;32mand\u001b[0m \u001b[0mr\u001b[0m\u001b[0;34m.\u001b[0m\u001b[0mtext\u001b[0m \u001b[0;34m!=\u001b[0m \u001b[0;34m'null'\u001b[0m\u001b[0;34m:\u001b[0m\u001b[0;34m\u001b[0m\u001b[0m\n\u001b[1;32m    122\u001b[0m                 raise SpotifyException(r.status_code,\n\u001b[0;32m--> 123\u001b[0;31m                     \u001b[0;34m-\u001b[0m\u001b[0;36m1\u001b[0m\u001b[0;34m,\u001b[0m \u001b[0;34m'%s:\\n %s'\u001b[0m \u001b[0;34m%\u001b[0m \u001b[0;34m(\u001b[0m\u001b[0mr\u001b[0m\u001b[0;34m.\u001b[0m\u001b[0murl\u001b[0m\u001b[0;34m,\u001b[0m \u001b[0mr\u001b[0m\u001b[0;34m.\u001b[0m\u001b[0mjson\u001b[0m\u001b[0;34m(\u001b[0m\u001b[0;34m)\u001b[0m\u001b[0;34m[\u001b[0m\u001b[0;34m'error'\u001b[0m\u001b[0;34m]\u001b[0m\u001b[0;34m[\u001b[0m\u001b[0;34m'message'\u001b[0m\u001b[0;34m]\u001b[0m\u001b[0;34m)\u001b[0m\u001b[0;34m,\u001b[0m\u001b[0;34m\u001b[0m\u001b[0m\n\u001b[0m\u001b[1;32m    124\u001b[0m                     headers=r.headers)\n\u001b[1;32m    125\u001b[0m             \u001b[0;32melse\u001b[0m\u001b[0;34m:\u001b[0m\u001b[0;34m\u001b[0m\u001b[0m\n",
      "\u001b[0;32m~/anaconda3/lib/python3.7/site-packages/requests/models.py\u001b[0m in \u001b[0;36mjson\u001b[0;34m(self, **kwargs)\u001b[0m\n\u001b[1;32m    894\u001b[0m                     \u001b[0;31m# used.\u001b[0m\u001b[0;34m\u001b[0m\u001b[0;34m\u001b[0m\u001b[0m\n\u001b[1;32m    895\u001b[0m                     \u001b[0;32mpass\u001b[0m\u001b[0;34m\u001b[0m\u001b[0m\n\u001b[0;32m--> 896\u001b[0;31m         \u001b[0;32mreturn\u001b[0m \u001b[0mcomplexjson\u001b[0m\u001b[0;34m.\u001b[0m\u001b[0mloads\u001b[0m\u001b[0;34m(\u001b[0m\u001b[0mself\u001b[0m\u001b[0;34m.\u001b[0m\u001b[0mtext\u001b[0m\u001b[0;34m,\u001b[0m \u001b[0;34m**\u001b[0m\u001b[0mkwargs\u001b[0m\u001b[0;34m)\u001b[0m\u001b[0;34m\u001b[0m\u001b[0m\n\u001b[0m\u001b[1;32m    897\u001b[0m \u001b[0;34m\u001b[0m\u001b[0m\n\u001b[1;32m    898\u001b[0m     \u001b[0;34m@\u001b[0m\u001b[0mproperty\u001b[0m\u001b[0;34m\u001b[0m\u001b[0m\n",
      "\u001b[0;32m~/anaconda3/lib/python3.7/json/__init__.py\u001b[0m in \u001b[0;36mloads\u001b[0;34m(s, encoding, cls, object_hook, parse_float, parse_int, parse_constant, object_pairs_hook, **kw)\u001b[0m\n\u001b[1;32m    346\u001b[0m             \u001b[0mparse_int\u001b[0m \u001b[0;32mis\u001b[0m \u001b[0;32mNone\u001b[0m \u001b[0;32mand\u001b[0m \u001b[0mparse_float\u001b[0m \u001b[0;32mis\u001b[0m \u001b[0;32mNone\u001b[0m \u001b[0;32mand\u001b[0m\u001b[0;34m\u001b[0m\u001b[0m\n\u001b[1;32m    347\u001b[0m             parse_constant is None and object_pairs_hook is None and not kw):\n\u001b[0;32m--> 348\u001b[0;31m         \u001b[0;32mreturn\u001b[0m \u001b[0m_default_decoder\u001b[0m\u001b[0;34m.\u001b[0m\u001b[0mdecode\u001b[0m\u001b[0;34m(\u001b[0m\u001b[0ms\u001b[0m\u001b[0;34m)\u001b[0m\u001b[0;34m\u001b[0m\u001b[0m\n\u001b[0m\u001b[1;32m    349\u001b[0m     \u001b[0;32mif\u001b[0m \u001b[0mcls\u001b[0m \u001b[0;32mis\u001b[0m \u001b[0;32mNone\u001b[0m\u001b[0;34m:\u001b[0m\u001b[0;34m\u001b[0m\u001b[0m\n\u001b[1;32m    350\u001b[0m         \u001b[0mcls\u001b[0m \u001b[0;34m=\u001b[0m \u001b[0mJSONDecoder\u001b[0m\u001b[0;34m\u001b[0m\u001b[0m\n",
      "\u001b[0;32m~/anaconda3/lib/python3.7/json/decoder.py\u001b[0m in \u001b[0;36mdecode\u001b[0;34m(self, s, _w)\u001b[0m\n\u001b[1;32m    335\u001b[0m \u001b[0;34m\u001b[0m\u001b[0m\n\u001b[1;32m    336\u001b[0m         \"\"\"\n\u001b[0;32m--> 337\u001b[0;31m         \u001b[0mobj\u001b[0m\u001b[0;34m,\u001b[0m \u001b[0mend\u001b[0m \u001b[0;34m=\u001b[0m \u001b[0mself\u001b[0m\u001b[0;34m.\u001b[0m\u001b[0mraw_decode\u001b[0m\u001b[0;34m(\u001b[0m\u001b[0ms\u001b[0m\u001b[0;34m,\u001b[0m \u001b[0midx\u001b[0m\u001b[0;34m=\u001b[0m\u001b[0m_w\u001b[0m\u001b[0;34m(\u001b[0m\u001b[0ms\u001b[0m\u001b[0;34m,\u001b[0m \u001b[0;36m0\u001b[0m\u001b[0;34m)\u001b[0m\u001b[0;34m.\u001b[0m\u001b[0mend\u001b[0m\u001b[0;34m(\u001b[0m\u001b[0;34m)\u001b[0m\u001b[0;34m)\u001b[0m\u001b[0;34m\u001b[0m\u001b[0m\n\u001b[0m\u001b[1;32m    338\u001b[0m         \u001b[0mend\u001b[0m \u001b[0;34m=\u001b[0m \u001b[0m_w\u001b[0m\u001b[0;34m(\u001b[0m\u001b[0ms\u001b[0m\u001b[0;34m,\u001b[0m \u001b[0mend\u001b[0m\u001b[0;34m)\u001b[0m\u001b[0;34m.\u001b[0m\u001b[0mend\u001b[0m\u001b[0;34m(\u001b[0m\u001b[0;34m)\u001b[0m\u001b[0;34m\u001b[0m\u001b[0m\n\u001b[1;32m    339\u001b[0m         \u001b[0;32mif\u001b[0m \u001b[0mend\u001b[0m \u001b[0;34m!=\u001b[0m \u001b[0mlen\u001b[0m\u001b[0;34m(\u001b[0m\u001b[0ms\u001b[0m\u001b[0;34m)\u001b[0m\u001b[0;34m:\u001b[0m\u001b[0;34m\u001b[0m\u001b[0m\n",
      "\u001b[0;32m~/anaconda3/lib/python3.7/json/decoder.py\u001b[0m in \u001b[0;36mraw_decode\u001b[0;34m(self, s, idx)\u001b[0m\n\u001b[1;32m    353\u001b[0m             \u001b[0mobj\u001b[0m\u001b[0;34m,\u001b[0m \u001b[0mend\u001b[0m \u001b[0;34m=\u001b[0m \u001b[0mself\u001b[0m\u001b[0;34m.\u001b[0m\u001b[0mscan_once\u001b[0m\u001b[0;34m(\u001b[0m\u001b[0ms\u001b[0m\u001b[0;34m,\u001b[0m \u001b[0midx\u001b[0m\u001b[0;34m)\u001b[0m\u001b[0;34m\u001b[0m\u001b[0m\n\u001b[1;32m    354\u001b[0m         \u001b[0;32mexcept\u001b[0m \u001b[0mStopIteration\u001b[0m \u001b[0;32mas\u001b[0m \u001b[0merr\u001b[0m\u001b[0;34m:\u001b[0m\u001b[0;34m\u001b[0m\u001b[0m\n\u001b[0;32m--> 355\u001b[0;31m             \u001b[0;32mraise\u001b[0m \u001b[0mJSONDecodeError\u001b[0m\u001b[0;34m(\u001b[0m\u001b[0;34m\"Expecting value\"\u001b[0m\u001b[0;34m,\u001b[0m \u001b[0ms\u001b[0m\u001b[0;34m,\u001b[0m \u001b[0merr\u001b[0m\u001b[0;34m.\u001b[0m\u001b[0mvalue\u001b[0m\u001b[0;34m)\u001b[0m \u001b[0;32mfrom\u001b[0m \u001b[0;32mNone\u001b[0m\u001b[0;34m\u001b[0m\u001b[0m\n\u001b[0m\u001b[1;32m    356\u001b[0m         \u001b[0;32mreturn\u001b[0m \u001b[0mobj\u001b[0m\u001b[0;34m,\u001b[0m \u001b[0mend\u001b[0m\u001b[0;34m\u001b[0m\u001b[0m\n",
      "\u001b[0;31mJSONDecodeError\u001b[0m: Expecting value: line 2 column 1 (char 1)"
     ]
    }
   ],
   "source": [
    "# ***** THIS CODE BLOCK READS ALL 1400+ SPOTIFY PLAYLISTS, IT HAS NO SET LIMIT *****\n",
    "\n",
    "# This code returns a dictionary, the keys are playlist titles\n",
    "# The values are dictionaries containing the audio feature data for each song in the playlist\n",
    "\n",
    "# Make an empty dictionary for later population with data\n",
    "total_playlist_dict = {}\n",
    "\n",
    "# Start making API calls, generate a list of playlist ID's and names \n",
    "playlists = sp.user_playlists(\"spotify\")\n",
    "\n",
    "playlist_ids=[]\n",
    "playlist_names=[]\n",
    "\n",
    "while playlists:\n",
    "    for i, playlist in enumerate(playlists['items']):\n",
    "        # print(\"%4d %s %s\" % (i + 1 + playlists['offset'], playlist['uri'],  playlist['name']))\n",
    "        playlist_ids.append(playlist['id'])\n",
    "        playlist_names.append(playlist['name'])\n",
    "        playlist\n",
    "        \n",
    "    if playlists['next']:\n",
    "        playlists = sp.next(playlists)\n",
    "        \n",
    "    else:\n",
    "        playlists = None\n",
    "        \n",
    "# Cycle through the playlists in playlist_ids\n",
    "# Extract the songs in each playlist\n",
    "for (ID, name) in zip(playlist_ids, playlist_names):\n",
    "    playlist1 = sp.user_playlist_tracks(user=\"spotify\", playlist_id=ID, fields=None, limit=100, offset=0, market=None)\n",
    "\n",
    "    # Create lists to store song ID's and song names \n",
    "    song_ids = []\n",
    "    song_names = []\n",
    "    for i in range(len(playlist1[\"items\"])):\n",
    "        \n",
    "        # Try/Except to avoid TypeError\n",
    "        try:\n",
    "            song_id = playlist1[\"items\"][i][\"track\"][\"id\"]\n",
    "            \n",
    "        except TypeError:\n",
    "            print(\"TypeError, skipping\")\n",
    "            continue\n",
    "            \n",
    "        song_name = playlist1[\"items\"][i][\"track\"][\"name\"]\n",
    "        song_ids.append(song_id)\n",
    "        song_names.append(song_name)\n",
    "        \n",
    "    # Create empty lists to store Spotify's audio features and song name\n",
    "    danceability = []\n",
    "    energy = []\n",
    "    speechiness = []\n",
    "    acousticness = []\n",
    "    tempo = []\n",
    "    instrumentalness = []\n",
    "    liveness = []\n",
    "    loudness = []\n",
    "    duration_ms = []\n",
    "    key = []\n",
    "    mode = []\n",
    "    valence = []\n",
    "\n",
    "    # Loop though list of song ID's\n",
    "    for track in song_ids:\n",
    "        track_features = sp.audio_features(tracks = track)\n",
    "    \n",
    "        # Append audio features to respective lists\n",
    "        # Try/Except to avoid TypeError\n",
    "        try:\n",
    "            danceability.append(track_features[0][\"danceability\"])\n",
    "            energy.append(track_features[0][\"energy\"])\n",
    "            speechiness.append(track_features[0][\"speechiness\"])\n",
    "            acousticness.append(track_features[0][\"acousticness\"])\n",
    "            tempo.append(track_features[0][\"tempo\"])\n",
    "            instrumentalness.append(track_features[0][\"instrumentalness\"])\n",
    "            liveness.append(track_features[0][\"liveness\"])\n",
    "            loudness.append(track_features[0][\"loudness\"])\n",
    "            duration_ms.append(track_features[0][\"duration_ms\"])\n",
    "            key.append(track_features[0][\"key\"])\n",
    "            mode.append(track_features[0][\"mode\"])\n",
    "            valence.append(track_features[0][\"valence\"])\n",
    "            \n",
    "        except TypeError:\n",
    "            print(\"TypeError, skipping\")\n",
    "            continue\n",
    "        \n",
    "    # Place the listed data into a dictionary\n",
    "    playlist_dict = {\n",
    "        \"Name\":song_names,\n",
    "        \"Danceability\":danceability,\n",
    "        \"Energy\":energy,\n",
    "        \"Speechiness\":speechiness,\n",
    "        \"Acousticness\":acousticness,\n",
    "        \"Tempo\":tempo,\n",
    "        \"Instrumentalness\":instrumentalness,\n",
    "        \"Liveness\":liveness,\n",
    "        \"Loudness\":loudness,\n",
    "        \"Duration(ms)\":duration_ms,\n",
    "        \"Key\":key,\n",
    "        \"Mode\":mode,\n",
    "        \"Valence\":valence\n",
    "    }\n",
    "    \n",
    "    # Compile the data dictionaries into final dictionary with playlist titles as keys\n",
    "    total_playlist_dict.update({name:playlist_dict})"
   ]
  },
  {
   "cell_type": "code",
   "execution_count": 280,
   "metadata": {},
   "outputs": [
    {
     "data": {
      "text/plain": [
       "244"
      ]
     },
     "execution_count": 280,
     "metadata": {},
     "output_type": "execute_result"
    }
   ],
   "source": [
    "len(total_playlist_dict)"
   ]
  },
  {
   "cell_type": "code",
   "execution_count": 282,
   "metadata": {},
   "outputs": [],
   "source": [
    "import numpy as np\n",
    "\n",
    "# Save\n",
    "np.save('total_playlist_dict.npy', \"dictionary\") \n",
    "\n",
    "# Load\n",
    "#read_dictionary = np.load('my_file.npy').item()\n",
    "#print(read_dictionary['hello']) # displays \"world\""
   ]
  },
  {
   "cell_type": "code",
   "execution_count": 184,
   "metadata": {},
   "outputs": [
    {
     "name": "stdout",
     "output_type": "stream",
     "text": [
      "Today's Top Hits\n",
      "RapCaviar\n",
      "mint\n",
      "Are & Be\n",
      "Rock This\n",
      "Hot Country\n",
      "¡Viva Latino!\n",
      "New Music Friday\n",
      "Afternoon Acoustic\n",
      "Peaceful Piano\n",
      "Roots Rising\n",
      "Lost In Austin: Country Music from SXSW\n",
      "SXSW: HipHopUpNext\n",
      "Music Inspired By Mogul\n",
      "SXSW 2017: Daily Guide\n",
      "TGIF\n",
      "Women of Experimental\n",
      "We Here\n",
      "This Is: Jason Isbell\n",
      "This Is Disney\n",
      "This Is The Doors\n",
      "This Is AC/DC\n",
      "This Is Adele\n",
      "This Is Al Green\n",
      "This Is alt-J\n",
      "This Is: Aqua\n",
      "This Is Aretha Franklin\n",
      "This Is Bee Gees\n",
      "This Is blink-182\n",
      "This Is Bruno Mars\n",
      "This is: Carole King\n",
      "This is: Deep Purple\n",
      "This Is Depeche Mode\n",
      "This Is: Dispatch\n",
      "This Is Ed Sheeran\n",
      "This Is Future\n",
      "This Is: George Michael\n",
      "This Is: Gillian Welch\n",
      "This Is James Arthur\n",
      "This is: Jamiroquai\n",
      "This Is John Mayer\n",
      "This Is: John Legend\n",
      "This Is Justin Bieber\n",
      "This Is Lady Gaga\n",
      "This Is LANY\n",
      "This Is Laura Marling\n",
      "This Is:  Miranda Lambert\n",
      "This Is Muse\n",
      "This Is Neil Young\n",
      "This Is Nina Simone\n",
      "This Is New Edition\n",
      "This Is One Direction\n",
      "This Is OneRepublic\n",
      "This is: Raffi\n",
      "This Is Prince\n",
      "This Is: Rag'n'Bone Man\n",
      "This Is Soundgarden\n",
      "This Is: Status Quo\n",
      "This Is: Stevie Wonder\n",
      "This Is The Beach Boys\n",
      "This Is The Rolling Stones\n",
      "This Is The Weeknd\n",
      "This Is:  Thomas Rhett\n",
      "This Is: Trey Songz\n",
      "This Is Bob Dylan\n",
      "This Is Bonobo\n",
      "This Is Britney Spears\n",
      "This is Bruce Springsteen\n",
      "This is: Cher\n",
      "This Is Chuck Berry\n",
      "This Is Daft Punk\n",
      "This Is Eagles\n",
      "This Is Earth, Wind & Fire\n",
      "This Is Elton John\n",
      "This is: Emeli Sandé\n",
      "This Is Gorillaz\n",
      "This Is Drake\n",
      "This is Jerry Garcia\n",
      "This Is Joni Mitchell\n",
      "This Is Little Mix\n",
      "This Is London Grammar\n",
      "This Is Lou Reed\n",
      "This Is: Max Martin\n",
      "This is: Maxwell\n",
      "This Is: Margo Price\n",
      "This Is Nick Cave\n",
      "This Is Nickelback\n",
      "This Is Radiohead\n",
      "This Is: R.E.M.\n",
      "This Is Rihanna\n",
      "This is Roxette\n",
      "This Is Sampha\n",
      "This Is: Skepta\n",
      "This Is Spice Girls\n",
      "This is Sting\n",
      "This Is Take That\n",
      "This Is Stormzy\n",
      "This Is Tina Turner\n",
      "This Is Tony Bennett\n",
      "This Is Trentemøller\n",
      "This Is U2\n",
      "This Is Van Morrison\n",
      "This Is Volbeat\n",
      "This is: Wiley\n",
      "This Is The Fall\n",
      "Best of John Peel Sessions\n",
      "This Is The xx\n",
      "This Is: David Axelrod\n",
      "New Noise\n",
      "The New Alt\n",
      "Rock Solid\n",
      "Rock This: Best of 2017\n",
      "Rock Party\n",
      "Rock Classics\n",
      "You & Me\n",
      "This Is Beastie Boys\n",
      "It's ALT Good!\n",
      "The Scene\n",
      "Rock Hard\n",
      "Big in Japan\n",
      "This Is Ryan Adams\n",
      "This Is The Black Keys\n",
      "This Is Tom Petty\n",
      "This Is Nirvana\n",
      "This Is Ramones\n",
      "This Is Green Day\n",
      "This Is Metallica\n",
      "This Is Jane's Addiction\n",
      "This Is Oasis\n",
      "This Is KISS\n",
      "Rock Save the Queen\n",
      "Dirty Rock\n",
      "One More Rep\n",
      "90s Rock Anthems\n",
      "Soak Up the Sun\n",
      "License To Chill\n",
      "Rockin' Vibes\n",
      "Rock Ballads\n",
      "Totally Alt\n",
      "Nu Metal Generation\n",
      "Alternative Beats\n",
      "Rock Covers\n",
      "Dreamy & Distorted\n",
      "Rock Me UP!\n",
      "All Things Post\n",
      "Emo Forever\n",
      "Classic Hardcore\n",
      "Rock Gaming\n",
      "New Boots\n",
      "Wild Country\n",
      "Country Gold\n",
      "Texas Music Now\n",
      "Country Coffeehouse\n",
      "Canadian Country\n",
      "Country Kind of Love\n",
      "Country Nights\n",
      "Chillin' on a Dirt Road\n",
      "Country by the Grace of God\n",
      "This Is: Merle Haggard\n",
      "This Is:  Johnny Cash\n",
      "From Beginning To End:  Johnny Cash\n",
      "90's Country\n",
      "New Traditions: Country Heroes\n",
      "Southern Rock 101\n",
      "Field Party\n",
      "Classic Honky Tonk\n",
      "Country Rocks\n",
      "Signed XOXO\n",
      "Most Necessary\n",
      "Gold School\n",
      "Get Turnt\n",
      "Love, Sex, & Water\n",
      "African Heat\n",
      "Mind Right\n",
      "Dancehall Official\n",
      "Cali Fire\n",
      "Power Workout\n",
      "The Realest Down South\n",
      "State of Mind\n",
      "Alternative Hip Hop\n",
      "Workout Twerkout\n",
      "We Everywhere\n",
      "Black History Salute\n",
      "Behind The Lyrics: Hip Hop\n",
      "The Newness\n",
      "Channel X\n",
      "Gold Edition\n",
      "Alternative R&B\n",
      "Chilled R&B\n",
      "The Sweet Suite\n",
      "Soul Revived\n",
      "Soul Lounge\n",
      "'90s Baby Makers\n",
      "Wine & Dine\n",
      "Spread the Gospel\n",
      "Funk Outta Here\n",
      "I Love My '90s R&B\n",
      "’80s Jam Session\n",
      "I Love My '00s R&B\n",
      "Queen\n",
      "The Rhythm\n",
      "Soft Pop Hits\n",
      "Dance Rising\n",
      "Dance Pop\n",
      "Dance Rewind\n",
      "Housewerk\n",
      "Friday Cratediggers\n",
      "Bass Arcade\n",
      "Brain Food\n",
      "Lowkey Tech\n",
      "Chill Tracks\n",
      "Dance Classics\n",
      "Club Acoustic\n",
      "Creamy\n",
      "Dance Party\n",
      "Deep House Relax\n",
      "Electro Workout\n",
      "Emotron\n",
      "Hardstyle Bangers\n",
      "Happy Beats\n",
      "Hype\n",
      "Metropolis\n",
      "Nasty Bits\n",
      "Night Rider\n",
      "Orgánica\n",
      "Rage Beats\n",
      "Soul BPM\n",
      "Shuffle Syndrome\n",
      "Stepping Out\n",
      "Trance Mission\n",
      "Trap Mojito\n",
      "UK House Music\n",
      "Heart Beats\n",
      "Dubstep Don\n",
      "ASoT  Year Mix 2018\n",
      "Haitian Heat\n",
      "This Is Alesso\n",
      "This Is Alok\n",
      "This Is Axwell Λ Ingrosso\n",
      "This Is David Mancuso\n",
      "This Is deadmau5\n",
      "This Is Martin Garrix\n",
      "This Is Nicky Romero\n",
      "This Is: John Prine\n"
     ]
    }
   ],
   "source": [
    "# This code will return a list of the playlists in the dictionary after running the above code block\n",
    "for key in total_playlist_dict.keys():\n",
    "    print(key)"
   ]
  },
  {
   "cell_type": "code",
   "execution_count": null,
   "metadata": {},
   "outputs": [],
   "source": []
  },
  {
   "cell_type": "code",
   "execution_count": 187,
   "metadata": {},
   "outputs": [
    {
     "data": {
      "image/png": "[encoded data removed]",
      "text/plain": [
       "<Figure size 432x288 with 1 Axes>"
      ]
     },
     "metadata": {
      "needs_background": "light"
     },
     "output_type": "display_data"
    }
   ],
   "source": [
    "import numpy as np\n",
    "import scipy.stats as stats\n",
    "import pylab as pl\n",
    "\n",
    "data = sorted(todays_hits[\"Energy\"])\n",
    "\n",
    "fit = stats.norm.pdf(data, np.mean(data), np.std(data))\n",
    "\n",
    "pl.plot(data, fit, '-o')\n",
    "\n",
    "pl.hist(data, density=True)\n",
    "\n",
    "pl.show()"
   ]
  },
  {
   "cell_type": "code",
   "execution_count": null,
   "metadata": {},
   "outputs": [],
   "source": []
  },
  {
   "cell_type": "markdown",
   "metadata": {},
   "source": [
    "Are Spotify's measures of 'energy' and 'danceability' positively correlated?\n",
    "\n",
    "Hypothesis:\n",
    "\n",
    "If the mean 'energy' of a playlist's songs is higher than 0.5, then the playlist's mean 'danceability' will increase.\n",
    "\n",
    "Null:\n",
    "\n",
    "If the mean 'energy' of a playlist's songs is not higher than 0.5, then the playlist's mean 'danceability' will not increase.\n"
   ]
  },
  {
   "cell_type": "markdown",
   "metadata": {},
   "source": [
    "The attributes we want to test:\n",
    "\n",
    "Speechiness, instrumentalness, positively correlated\n",
    "Liveness, loudness, positively correlated \n",
    "Tempo, loudness, positively correlated\n",
    "Acoustiness, energy, negative correlation\n",
    "Speechiness, tempo, negative correlation\n"
   ]
  },
  {
   "cell_type": "code",
   "execution_count": 338,
   "metadata": {},
   "outputs": [],
   "source": [
    "# Code for running statistical tests\n",
    "# Create empty lists to store the means for the chosen audio features\n",
    "speechiness_avgs = []\n",
    "instrumentalness_avgs = []\n",
    "danceability_avgs = []\n",
    "tempo_avgs = []\n",
    "acousticness_avgs = []\n",
    "liveness_avgs = []\n",
    "loudness_avgs = []\n",
    "energy_avgs = []\n",
    "mode_avgs = []\n",
    "duration_avgs = []\n",
    "valence_avgs = []\n",
    "\n",
    "\n",
    "# Loop through dictionary, pull playlists and store select audio features\n",
    "for key in total_playlist_dict.keys():\n",
    "    entry = total_playlist_dict[key]\n",
    "    speechiness_avgs.append(np.mean(entry[\"Speechiness\"]))\n",
    "    instrumentalness_avgs.append(np.mean(entry[\"Instrumentalness\"]))\n",
    "    danceability_avgs.append(np.mean(entry[\"Danceability\"]))\n",
    "    tempo_avgs.append(np.mean(entry[\"Tempo\"]))\n",
    "    acousticness_avgs.append(np.mean(entry[\"Acousticness\"]))\n",
    "    liveness_avgs.append(np.mean(entry[\"Liveness\"]))\n",
    "    loudness_avgs.append(np.mean(entry[\"Loudness\"]))\n",
    "    energy_avgs.append(np.mean(entry[\"Energy\"]))\n",
    "    mode_avgs.append(np.mean(entry[\"Mode\"]))\n",
    "    duration_avgs.append(np.mean(entry[\"Duration(ms)\"]))\n",
    "    valence_avgs.append(np.mean(entry[\"Valence\"]))    "
   ]
  },
  {
   "cell_type": "code",
   "execution_count": null,
   "metadata": {},
   "outputs": [],
   "source": []
  },
  {
   "cell_type": "code",
   "execution_count": 397,
   "metadata": {},
   "outputs": [
    {
     "data": {
      "text/plain": [
       "244"
      ]
     },
     "execution_count": 397,
     "metadata": {},
     "output_type": "execute_result"
    }
   ],
   "source": [
    "import pandas as pd\n",
    "from sklearn import datasets, linear_model\n",
    "from sklearn.model_selection import train_test_split\n",
    "from matplotlib import pyplot as plt\n",
    "\n",
    "# Tempo vs Loudness\n",
    "my_dict = {\n",
    "    \"Tempo Avgs\":tempo_avgs,\n",
    "    \"Loudness Avgs\":loudness_avgs\n",
    "}\n",
    "\n",
    "df = pd.DataFrame(my_dict)\n",
    "df.head()\n",
    "len(df.index)"
   ]
  },
  {
   "cell_type": "code",
   "execution_count": 340,
   "metadata": {},
   "outputs": [],
   "source": [
    "X = df.iloc[:, :-1].values  \n",
    "y = df.iloc[:, 1].values "
   ]
  },
  {
   "cell_type": "code",
   "execution_count": 341,
   "metadata": {},
   "outputs": [],
   "source": [
    "from sklearn.model_selection import train_test_split  \n",
    "X_train, X_test, y_train, y_test = train_test_split(X, y, test_size=0.2, random_state=0) "
   ]
  },
  {
   "cell_type": "code",
   "execution_count": 342,
   "metadata": {},
   "outputs": [
    {
     "data": {
      "text/plain": [
       "LinearRegression(copy_X=True, fit_intercept=True, n_jobs=1, normalize=False)"
      ]
     },
     "execution_count": 342,
     "metadata": {},
     "output_type": "execute_result"
    }
   ],
   "source": [
    "from sklearn.linear_model import LinearRegression  \n",
    "regressor = LinearRegression()  \n",
    "regressor.fit(X_train, y_train)"
   ]
  },
  {
   "cell_type": "code",
   "execution_count": 343,
   "metadata": {},
   "outputs": [
    {
     "name": "stdout",
     "output_type": "stream",
     "text": [
      "-26.175557707771496\n"
     ]
    }
   ],
   "source": [
    "intercept = regressor.intercept_\n",
    "print(regressor.intercept_)  "
   ]
  },
  {
   "cell_type": "code",
   "execution_count": 344,
   "metadata": {},
   "outputs": [
    {
     "name": "stdout",
     "output_type": "stream",
     "text": [
      "[0.15348135]\n"
     ]
    }
   ],
   "source": [
    "coef = regressor.coef_\n",
    "print(regressor.coef_) "
   ]
  },
  {
   "cell_type": "code",
   "execution_count": 345,
   "metadata": {},
   "outputs": [],
   "source": [
    "y_pred = regressor.predict(X_test) "
   ]
  },
  {
   "cell_type": "code",
   "execution_count": 346,
   "metadata": {},
   "outputs": [],
   "source": [
    "df = pd.DataFrame({'Actual': y_test, 'Predicted': y_pred})  \n",
    " "
   ]
  },
  {
   "cell_type": "code",
   "execution_count": 348,
   "metadata": {},
   "outputs": [
    {
     "data": {
      "image/png": "[encoded data removed]",
      "text/plain": [
       "<Figure size 432x288 with 1 Axes>"
      ]
     },
     "metadata": {
      "needs_background": "light"
     },
     "output_type": "display_data"
    }
   ],
   "source": [
    "x1 = df[\"Actual\"]\n",
    "y1 = df[\"Predicted\"]\n",
    "plt.scatter(x1, y1)\n",
    "plt.xlabel(\"Actual Values\")\n",
    "plt.ylabel(\"Predicted Values\")\n",
    "plt.savefig(\"tempo_loudness_test.png\")\n",
    "plt.show()\n"
   ]
  },
  {
   "cell_type": "code",
   "execution_count": 349,
   "metadata": {},
   "outputs": [
    {
     "name": "stdout",
     "output_type": "stream",
     "text": [
      "0.11710405501554277\n"
     ]
    }
   ],
   "source": [
    "print(regressor.score(X_test, y_test))"
   ]
  },
  {
   "cell_type": "code",
   "execution_count": 350,
   "metadata": {},
   "outputs": [
    {
     "data": {
      "text/plain": [
       "LinregressResult(slope=0.22025297622059364, intercept=-5.623841345094689, rvalue=0.3932861639712888, pvalue=0.005180979606036537, stderr=0.07510628837863202)"
      ]
     },
     "execution_count": 350,
     "metadata": {},
     "output_type": "execute_result"
    }
   ],
   "source": [
    "stats.linregress(x1, y1)"
   ]
  },
  {
   "cell_type": "code",
   "execution_count": 351,
   "metadata": {},
   "outputs": [
    {
     "data": {
      "text/plain": [
       "(0.44465166483207086, 3.008706389211429e-13)"
      ]
     },
     "execution_count": 351,
     "metadata": {},
     "output_type": "execute_result"
    }
   ],
   "source": [
    "stats.pearsonr(tempo_avgs, loudness_avgs)"
   ]
  },
  {
   "cell_type": "code",
   "execution_count": 352,
   "metadata": {},
   "outputs": [
    {
     "data": {
      "image/png": "[encoded data removed]",
      "text/plain": [
       "<Figure size 432x288 with 1 Axes>"
      ]
     },
     "metadata": {
      "needs_background": "light"
     },
     "output_type": "display_data"
    }
   ],
   "source": [
    "line = coef*X + intercept\n",
    "plt.plot(X, y, \"o\", X, line, \"r-\")\n",
    "plt.xlabel(\"Mean Tempo (bpm)\")\n",
    "plt.ylabel(\"Mean Loudness (dB)\")\n",
    "plt.title(\"Playlist Tempos vs Loudness\")\n",
    "plt.savefig(\"tempo_loudness_plot.png\")\n",
    "plt.show()"
   ]
  },
  {
   "cell_type": "code",
   "execution_count": null,
   "metadata": {},
   "outputs": [],
   "source": []
  },
  {
   "cell_type": "code",
   "execution_count": 353,
   "metadata": {},
   "outputs": [
    {
     "data": {
      "text/plain": [
       "244"
      ]
     },
     "execution_count": 353,
     "metadata": {},
     "output_type": "execute_result"
    }
   ],
   "source": [
    "# Mode vs Valence\n",
    "\n",
    "my_dict = {\n",
    "    \"Mode Avgs\":mode_avgs,\n",
    "    \"Valence Avgs\":valence_avgs\n",
    "}\n",
    "\n",
    "df = pd.DataFrame(my_dict)\n",
    "df.head()\n",
    "len(df.index)"
   ]
  },
  {
   "cell_type": "code",
   "execution_count": 354,
   "metadata": {},
   "outputs": [
    {
     "data": {
      "text/plain": [
       "LinearRegression(copy_X=True, fit_intercept=True, n_jobs=1, normalize=False)"
      ]
     },
     "execution_count": 354,
     "metadata": {},
     "output_type": "execute_result"
    }
   ],
   "source": [
    "X = df.iloc[:, :-1].values  \n",
    "y = df.iloc[:, 1].values \n",
    "\n",
    "from sklearn.model_selection import train_test_split  \n",
    "X_train, X_test, y_train, y_test = train_test_split(X, y, test_size=0.2, random_state=0) \n",
    "\n",
    "from sklearn.linear_model import LinearRegression  \n",
    "regressor = LinearRegression()  \n",
    "regressor.fit(X_train, y_train)\n",
    "\n"
   ]
  },
  {
   "cell_type": "code",
   "execution_count": 355,
   "metadata": {},
   "outputs": [
    {
     "name": "stdout",
     "output_type": "stream",
     "text": [
      "0.34428786163278735\n"
     ]
    }
   ],
   "source": [
    "intercept = regressor.intercept_\n",
    "print(regressor.intercept_)  "
   ]
  },
  {
   "cell_type": "code",
   "execution_count": 356,
   "metadata": {},
   "outputs": [
    {
     "name": "stdout",
     "output_type": "stream",
     "text": [
      "[0.22842651]\n"
     ]
    }
   ],
   "source": [
    "coef = regressor.coef_\n",
    "print(regressor.coef_) "
   ]
  },
  {
   "cell_type": "code",
   "execution_count": 357,
   "metadata": {},
   "outputs": [
    {
     "data": {
      "image/png": "[encoded data removed]",
      "text/plain": [
       "<Figure size 432x288 with 1 Axes>"
      ]
     },
     "metadata": {
      "needs_background": "light"
     },
     "output_type": "display_data"
    }
   ],
   "source": [
    "y_pred = regressor.predict(X_test) \n",
    "\n",
    "df = pd.DataFrame({'Actual': y_test, 'Predicted': y_pred})  \n",
    "\n",
    "x1 = df[\"Actual\"]\n",
    "y1 = df[\"Predicted\"]\n",
    "plt.scatter(x1, y1)\n",
    "plt.xlabel(\"Actual Values\")\n",
    "plt.ylabel(\"Predicted Values\")\n",
    "plt.savefig(\"mode_valence_test.png\")\n",
    "plt.show()"
   ]
  },
  {
   "cell_type": "code",
   "execution_count": 290,
   "metadata": {},
   "outputs": [
    {
     "name": "stdout",
     "output_type": "stream",
     "text": [
      "0.09841145378993577\n"
     ]
    }
   ],
   "source": [
    "print(regressor.score(X_test, y_test))"
   ]
  },
  {
   "cell_type": "code",
   "execution_count": 291,
   "metadata": {},
   "outputs": [
    {
     "data": {
      "text/plain": [
       "LinregressResult(slope=0.15105393541460252, intercept=0.4222661529822239, rvalue=0.43670336138325605, pvalue=0.0017059718884043103, stderr=0.04538880141643991)"
      ]
     },
     "execution_count": 291,
     "metadata": {},
     "output_type": "execute_result"
    }
   ],
   "source": [
    "stats.linregress(x1, y1)"
   ]
  },
  {
   "cell_type": "code",
   "execution_count": 312,
   "metadata": {},
   "outputs": [
    {
     "data": {
      "text/plain": [
       "(0.30047854404435975, 1.7490137431591394e-06)"
      ]
     },
     "execution_count": 312,
     "metadata": {},
     "output_type": "execute_result"
    }
   ],
   "source": [
    "stats.pearsonr(mode_avgs, valence_avgs)"
   ]
  },
  {
   "cell_type": "code",
   "execution_count": 358,
   "metadata": {},
   "outputs": [
    {
     "data": {
      "image/png": "[encoded data removed]",
      "text/plain": [
       "<Figure size 432x288 with 1 Axes>"
      ]
     },
     "metadata": {
      "needs_background": "light"
     },
     "output_type": "display_data"
    }
   ],
   "source": [
    "line = coef*X + intercept\n",
    "plt.plot(X, y, \"o\", X, line, \"r-\")\n",
    "plt.xlabel(\"Mean Mode\")\n",
    "plt.ylabel(\"Mean Valence\")\n",
    "plt.title(\"Playlist Mode vs Valence\")\n",
    "plt.savefig(\"mode_valence_plot.png\")\n",
    "plt.show()"
   ]
  },
  {
   "cell_type": "code",
   "execution_count": 359,
   "metadata": {},
   "outputs": [
    {
     "data": {
      "text/plain": [
       "244"
      ]
     },
     "execution_count": 359,
     "metadata": {},
     "output_type": "execute_result"
    }
   ],
   "source": [
    "# Tempo vs Duration\n",
    "\n",
    "my_dict = {\n",
    "    \"Tempo Avgs\":tempo_avgs,\n",
    "    \"Duration Avgs\":duration_avgs\n",
    "}\n",
    "\n",
    "df = pd.DataFrame(my_dict)\n",
    "df.head()\n",
    "len(df.index)"
   ]
  },
  {
   "cell_type": "code",
   "execution_count": 360,
   "metadata": {},
   "outputs": [
    {
     "data": {
      "text/plain": [
       "LinearRegression(copy_X=True, fit_intercept=True, n_jobs=1, normalize=False)"
      ]
     },
     "execution_count": 360,
     "metadata": {},
     "output_type": "execute_result"
    }
   ],
   "source": [
    "X = df.iloc[:, :-1].values  \n",
    "y = df.iloc[:, 1].values \n",
    "\n",
    "from sklearn.model_selection import train_test_split  \n",
    "X_train, X_test, y_train, y_test = train_test_split(X, y, test_size=0.2, random_state=0) \n",
    "\n",
    "from sklearn.linear_model import LinearRegression  \n",
    "regressor = LinearRegression()  \n",
    "regressor.fit(X_train, y_train)\n",
    "\n"
   ]
  },
  {
   "cell_type": "code",
   "execution_count": 361,
   "metadata": {},
   "outputs": [
    {
     "name": "stdout",
     "output_type": "stream",
     "text": [
      "309070.02059353306\n"
     ]
    }
   ],
   "source": [
    "intercept = regressor.intercept_\n",
    "print(regressor.intercept_)"
   ]
  },
  {
   "cell_type": "code",
   "execution_count": 362,
   "metadata": {},
   "outputs": [
    {
     "name": "stdout",
     "output_type": "stream",
     "text": [
      "[-608.961081]\n"
     ]
    }
   ],
   "source": [
    "coef = regressor.coef_\n",
    "print(regressor.coef_) "
   ]
  },
  {
   "cell_type": "code",
   "execution_count": 363,
   "metadata": {},
   "outputs": [
    {
     "data": {
      "image/png": "[encoded data removed]",
      "text/plain": [
       "<Figure size 432x288 with 1 Axes>"
      ]
     },
     "metadata": {
      "needs_background": "light"
     },
     "output_type": "display_data"
    }
   ],
   "source": [
    "y_pred = regressor.predict(X_test) \n",
    "\n",
    "df = pd.DataFrame({'Actual': y_test, 'Predicted': y_pred})  \n",
    "\n",
    "x1 = df[\"Actual\"]\n",
    "y1 = df[\"Predicted\"]\n",
    "plt.scatter(x1, y1)\n",
    "plt.xlabel(\"Actual Values\")\n",
    "plt.ylabel(\"Predicted Values\")\n",
    "plt.savefig(\"tempo_duration_test.png\")\n",
    "plt.show()"
   ]
  },
  {
   "cell_type": "code",
   "execution_count": 364,
   "metadata": {},
   "outputs": [
    {
     "name": "stdout",
     "output_type": "stream",
     "text": [
      "0.05200572389063595\n"
     ]
    }
   ],
   "source": [
    "print(regressor.score(X_test, y_test))"
   ]
  },
  {
   "cell_type": "code",
   "execution_count": 365,
   "metadata": {},
   "outputs": [
    {
     "data": {
      "text/plain": [
       "LinregressResult(slope=0.033625464520774466, intercept=226168.59093572828, rvalue=0.2932686108845916, pvalue=0.04084565055027933, stderr=0.015989148658998784)"
      ]
     },
     "execution_count": 365,
     "metadata": {},
     "output_type": "execute_result"
    }
   ],
   "source": [
    "stats.linregress(x1, y1)"
   ]
  },
  {
   "cell_type": "code",
   "execution_count": 366,
   "metadata": {},
   "outputs": [
    {
     "data": {
      "text/plain": [
       "(-0.16529188855537577, 0.009695642604939199)"
      ]
     },
     "execution_count": 366,
     "metadata": {},
     "output_type": "execute_result"
    }
   ],
   "source": [
    "stats.pearsonr(tempo_avgs, duration_avgs)"
   ]
  },
  {
   "cell_type": "code",
   "execution_count": 367,
   "metadata": {},
   "outputs": [
    {
     "data": {
      "image/png": "[encoded data removed]",
      "text/plain": [
       "<Figure size 432x288 with 1 Axes>"
      ]
     },
     "metadata": {
      "needs_background": "light"
     },
     "output_type": "display_data"
    }
   ],
   "source": [
    "line = coef*X + intercept\n",
    "plt.plot(X, y, \"o\", X, line, \"r-\")\n",
    "plt.xlabel(\"Mean Tempo (bpm)\")\n",
    "plt.ylabel(\"Mean Duration (ms)\")\n",
    "plt.title(\"Playlist Tempo vs Duration\")\n",
    "plt.savefig(\"tempo_duration_plot.png\")\n",
    "plt.show()"
   ]
  },
  {
   "cell_type": "code",
   "execution_count": 368,
   "metadata": {},
   "outputs": [
    {
     "data": {
      "text/plain": [
       "244"
      ]
     },
     "execution_count": 368,
     "metadata": {},
     "output_type": "execute_result"
    }
   ],
   "source": [
    "# Energy vs Danceability\n",
    "\n",
    "my_dict = {\n",
    "    \"Energy Avgs\":energy_avgs,\n",
    "    \"Danceability Avgs\":danceability_avgs\n",
    "}\n",
    "\n",
    "df = pd.DataFrame(my_dict)\n",
    "df.head()\n",
    "len(df.index)"
   ]
  },
  {
   "cell_type": "code",
   "execution_count": 369,
   "metadata": {},
   "outputs": [
    {
     "data": {
      "text/plain": [
       "LinearRegression(copy_X=True, fit_intercept=True, n_jobs=1, normalize=False)"
      ]
     },
     "execution_count": 369,
     "metadata": {},
     "output_type": "execute_result"
    }
   ],
   "source": [
    "X = df.iloc[:, :-1].values  \n",
    "y = df.iloc[:, 1].values \n",
    "\n",
    "from sklearn.model_selection import train_test_split  \n",
    "X_train, X_test, y_train, y_test = train_test_split(X, y, test_size=0.2, random_state=0) \n",
    "\n",
    "from sklearn.linear_model import LinearRegression  \n",
    "regressor = LinearRegression()  \n",
    "regressor.fit(X_train, y_train)"
   ]
  },
  {
   "cell_type": "code",
   "execution_count": 370,
   "metadata": {},
   "outputs": [
    {
     "name": "stdout",
     "output_type": "stream",
     "text": [
      "0.6059236949923177\n"
     ]
    }
   ],
   "source": [
    "intercept = regressor.intercept_\n",
    "print(regressor.intercept_)"
   ]
  },
  {
   "cell_type": "code",
   "execution_count": 371,
   "metadata": {},
   "outputs": [
    {
     "name": "stdout",
     "output_type": "stream",
     "text": [
      "[-0.02564602]\n"
     ]
    }
   ],
   "source": [
    "coef = regressor.coef_\n",
    "print(regressor.coef_) "
   ]
  },
  {
   "cell_type": "code",
   "execution_count": 372,
   "metadata": {},
   "outputs": [
    {
     "data": {
      "image/png": "[encoded data removed]",
      "text/plain": [
       "<Figure size 432x288 with 1 Axes>"
      ]
     },
     "metadata": {
      "needs_background": "light"
     },
     "output_type": "display_data"
    }
   ],
   "source": [
    "y_pred = regressor.predict(X_test) \n",
    "\n",
    "df = pd.DataFrame({'Actual': y_test, 'Predicted': y_pred})  \n",
    "\n",
    "x1 = df[\"Actual\"]\n",
    "y1 = df[\"Predicted\"]\n",
    "plt.scatter(x1, y1)\n",
    "plt.xlabel(\"Actual Values\")\n",
    "plt.ylabel(\"Predicted Values\")\n",
    "plt.savefig(\"energy_danceability_test.png\")\n",
    "plt.show()"
   ]
  },
  {
   "cell_type": "code",
   "execution_count": 373,
   "metadata": {},
   "outputs": [
    {
     "name": "stdout",
     "output_type": "stream",
     "text": [
      "-0.0016601142665684243\n"
     ]
    }
   ],
   "source": [
    "print(regressor.score(X_test, y_test))"
   ]
  },
  {
   "cell_type": "code",
   "execution_count": 374,
   "metadata": {},
   "outputs": [
    {
     "data": {
      "text/plain": [
       "LinregressResult(slope=0.0012914645835442927, intercept=0.5886316241451638, rvalue=0.030836221205378777, pvalue=0.8334092067392466, stderr=0.006106127125988529)"
      ]
     },
     "execution_count": 374,
     "metadata": {},
     "output_type": "execute_result"
    }
   ],
   "source": [
    "stats.linregress(x1, y1)"
   ]
  },
  {
   "cell_type": "code",
   "execution_count": 375,
   "metadata": {},
   "outputs": [
    {
     "data": {
      "text/plain": [
       "(-0.03731902464076776, 0.561813132636831)"
      ]
     },
     "execution_count": 375,
     "metadata": {},
     "output_type": "execute_result"
    }
   ],
   "source": [
    "stats.pearsonr(energy_avgs, danceability_avgs)"
   ]
  },
  {
   "cell_type": "code",
   "execution_count": 376,
   "metadata": {},
   "outputs": [
    {
     "data": {
      "image/png": "[encoded data removed]",
      "text/plain": [
       "<Figure size 432x288 with 1 Axes>"
      ]
     },
     "metadata": {
      "needs_background": "light"
     },
     "output_type": "display_data"
    }
   ],
   "source": [
    "line = coef*X + intercept\n",
    "plt.plot(X, y, \"o\", X, line, \"r-\")\n",
    "plt.xlabel(\"Mean Energy\")\n",
    "plt.ylabel(\"Mean Danceability\")\n",
    "plt.title(\"Playlist Energy vs Danceability\")\n",
    "plt.savefig(\"energy_danceability_plot.png\")\n",
    "plt.show()"
   ]
  },
  {
   "cell_type": "code",
   "execution_count": 377,
   "metadata": {},
   "outputs": [
    {
     "data": {
      "text/plain": [
       "244"
      ]
     },
     "execution_count": 377,
     "metadata": {},
     "output_type": "execute_result"
    }
   ],
   "source": [
    "# Speechiness vs Intrumentalness\n",
    "\n",
    "my_dict = {\n",
    "    \"Speechiness Avgs\":speechiness_avgs,\n",
    "    \"Instrumentalness Avgs\":instrumentalness_avgs\n",
    "}\n",
    "\n",
    "df = pd.DataFrame(my_dict)\n",
    "df.head()\n",
    "len(df.index)"
   ]
  },
  {
   "cell_type": "code",
   "execution_count": 378,
   "metadata": {},
   "outputs": [
    {
     "data": {
      "text/plain": [
       "LinearRegression(copy_X=True, fit_intercept=True, n_jobs=1, normalize=False)"
      ]
     },
     "execution_count": 378,
     "metadata": {},
     "output_type": "execute_result"
    }
   ],
   "source": [
    "X = df.iloc[:, :-1].values  \n",
    "y = df.iloc[:, 1].values \n",
    "\n",
    "from sklearn.model_selection import train_test_split  \n",
    "X_train, X_test, y_train, y_test = train_test_split(X, y, test_size=0.2, random_state=0) \n",
    "\n",
    "from sklearn.linear_model import LinearRegression  \n",
    "regressor = LinearRegression()  \n",
    "regressor.fit(X_train, y_train)"
   ]
  },
  {
   "cell_type": "code",
   "execution_count": 379,
   "metadata": {},
   "outputs": [
    {
     "name": "stdout",
     "output_type": "stream",
     "text": [
      "0.12766526788349178\n"
     ]
    }
   ],
   "source": [
    "intercept = regressor.intercept_\n",
    "print(regressor.intercept_)"
   ]
  },
  {
   "cell_type": "code",
   "execution_count": 380,
   "metadata": {},
   "outputs": [
    {
     "name": "stdout",
     "output_type": "stream",
     "text": [
      "[-0.34583882]\n"
     ]
    }
   ],
   "source": [
    "coef = regressor.coef_\n",
    "print(regressor.coef_) "
   ]
  },
  {
   "cell_type": "code",
   "execution_count": 381,
   "metadata": {},
   "outputs": [
    {
     "data": {
      "image/png": "[encoded data removed]",
      "text/plain": [
       "<Figure size 432x288 with 1 Axes>"
      ]
     },
     "metadata": {
      "needs_background": "light"
     },
     "output_type": "display_data"
    }
   ],
   "source": [
    "y_pred = regressor.predict(X_test) \n",
    "\n",
    "df = pd.DataFrame({'Actual': y_test, 'Predicted': y_pred})  \n",
    "\n",
    "x1 = df[\"Actual\"]\n",
    "y1 = df[\"Predicted\"]\n",
    "plt.scatter(x1, y1)\n",
    "plt.xlabel(\"Actual Values\")\n",
    "plt.ylabel(\"Predicted Values\")\n",
    "plt.savefig(\"speechiness_instrumentalness_test.png\")\n",
    "plt.show()"
   ]
  },
  {
   "cell_type": "code",
   "execution_count": 382,
   "metadata": {},
   "outputs": [
    {
     "name": "stdout",
     "output_type": "stream",
     "text": [
      "0.013498828378399441\n"
     ]
    }
   ],
   "source": [
    "print(regressor.score(X_test, y_test))"
   ]
  },
  {
   "cell_type": "code",
   "execution_count": 383,
   "metadata": {},
   "outputs": [
    {
     "data": {
      "text/plain": [
       "LinregressResult(slope=0.01459884953842019, intercept=0.09488387438776326, rvalue=0.1532986992390273, pvalue=0.2929737495747323, stderr=0.013726734963262216)"
      ]
     },
     "execution_count": 383,
     "metadata": {},
     "output_type": "execute_result"
    }
   ],
   "source": [
    "stats.linregress(x1, y1)"
   ]
  },
  {
   "cell_type": "code",
   "execution_count": 384,
   "metadata": {},
   "outputs": [
    {
     "data": {
      "text/plain": [
       "(-0.1264527879069382, 0.04849102564409151)"
      ]
     },
     "execution_count": 384,
     "metadata": {},
     "output_type": "execute_result"
    }
   ],
   "source": [
    "stats.pearsonr(speechiness_avgs, instrumentalness_avgs)"
   ]
  },
  {
   "cell_type": "code",
   "execution_count": 385,
   "metadata": {},
   "outputs": [
    {
     "data": {
      "image/png": "[encoded data removed]",
      "text/plain": [
       "<Figure size 432x288 with 1 Axes>"
      ]
     },
     "metadata": {
      "needs_background": "light"
     },
     "output_type": "display_data"
    }
   ],
   "source": [
    "line = coef*X + intercept\n",
    "plt.plot(X, y, \"o\", X, line, \"r-\")\n",
    "plt.xlabel(\"Mean Speechiness\")\n",
    "plt.ylabel(\"Mean Instrumentalness\")\n",
    "plt.title(\"Playlist Speechiness vs Instrumentalness\")\n",
    "plt.savefig(\"speechiness_instrumentalness_plot.png\")\n",
    "plt.show()"
   ]
  },
  {
   "cell_type": "code",
   "execution_count": 386,
   "metadata": {},
   "outputs": [
    {
     "data": {
      "text/plain": [
       "244"
      ]
     },
     "execution_count": 386,
     "metadata": {},
     "output_type": "execute_result"
    }
   ],
   "source": [
    "# Acousticness vs Danceability\n",
    "\n",
    "my_dict = {\n",
    "    \"Acousticness Avgs\":acousticness_avgs,\n",
    "    \"Danceability Avgs\":danceability_avgs\n",
    "}\n",
    "\n",
    "df = pd.DataFrame(my_dict)\n",
    "df.head()\n",
    "len(df.index)"
   ]
  },
  {
   "cell_type": "code",
   "execution_count": 387,
   "metadata": {},
   "outputs": [
    {
     "data": {
      "text/plain": [
       "LinearRegression(copy_X=True, fit_intercept=True, n_jobs=1, normalize=False)"
      ]
     },
     "execution_count": 387,
     "metadata": {},
     "output_type": "execute_result"
    }
   ],
   "source": [
    "X = df.iloc[:, :-1].values  \n",
    "y = df.iloc[:, 1].values \n",
    "\n",
    "from sklearn.model_selection import train_test_split  \n",
    "X_train, X_test, y_train, y_test = train_test_split(X, y, test_size=0.2, random_state=0) \n",
    "\n",
    "from sklearn.linear_model import LinearRegression  \n",
    "regressor = LinearRegression()  \n",
    "regressor.fit(X_train, y_train)"
   ]
  },
  {
   "cell_type": "code",
   "execution_count": 388,
   "metadata": {},
   "outputs": [
    {
     "name": "stdout",
     "output_type": "stream",
     "text": [
      "0.6018049497933233\n"
     ]
    }
   ],
   "source": [
    "intercept = regressor.intercept_\n",
    "print(regressor.intercept_)"
   ]
  },
  {
   "cell_type": "code",
   "execution_count": 389,
   "metadata": {},
   "outputs": [
    {
     "name": "stdout",
     "output_type": "stream",
     "text": [
      "[-0.05879148]\n"
     ]
    }
   ],
   "source": [
    "coef = regressor.coef_\n",
    "print(regressor.coef_) "
   ]
  },
  {
   "cell_type": "code",
   "execution_count": 390,
   "metadata": {},
   "outputs": [
    {
     "data": {
      "image/png": "[encoded data removed]",
      "text/plain": [
       "<Figure size 432x288 with 1 Axes>"
      ]
     },
     "metadata": {
      "needs_background": "light"
     },
     "output_type": "display_data"
    }
   ],
   "source": [
    "y_pred = regressor.predict(X_test) \n",
    "\n",
    "df = pd.DataFrame({'Actual': y_test, 'Predicted': y_pred})  \n",
    "\n",
    "x1 = df[\"Actual\"]\n",
    "y1 = df[\"Predicted\"]\n",
    "plt.scatter(x1, y1)\n",
    "plt.xlabel(\"Actual Values\")\n",
    "plt.ylabel(\"Predicted Values\")\n",
    "plt.savefig(\"acousticness_danceability_test.png\")\n",
    "plt.show()"
   ]
  },
  {
   "cell_type": "code",
   "execution_count": 391,
   "metadata": {},
   "outputs": [
    {
     "name": "stdout",
     "output_type": "stream",
     "text": [
      "0.030220558850628243\n"
     ]
    }
   ],
   "source": [
    "print(regressor.score(X_test, y_test))"
   ]
  },
  {
   "cell_type": "code",
   "execution_count": 392,
   "metadata": {},
   "outputs": [
    {
     "data": {
      "text/plain": [
       "LinregressResult(slope=0.02384457178179782, intercept=0.5739711187612656, rvalue=0.20418166883596015, pvalue=0.15935336005736278, stderr=0.016675421664079274)"
      ]
     },
     "execution_count": 392,
     "metadata": {},
     "output_type": "execute_result"
    }
   ],
   "source": [
    "stats.linregress(x1, y1)"
   ]
  },
  {
   "cell_type": "code",
   "execution_count": 393,
   "metadata": {},
   "outputs": [
    {
     "data": {
      "text/plain": [
       "(-0.1272023574456582, 0.047163277736522624)"
      ]
     },
     "execution_count": 393,
     "metadata": {},
     "output_type": "execute_result"
    }
   ],
   "source": [
    "stats.pearsonr(acousticness_avgs, danceability_avgs)"
   ]
  },
  {
   "cell_type": "code",
   "execution_count": 394,
   "metadata": {},
   "outputs": [
    {
     "data": {
      "image/png": "[encoded data removed]",
      "text/plain": [
       "<Figure size 432x288 with 1 Axes>"
      ]
     },
     "metadata": {
      "needs_background": "light"
     },
     "output_type": "display_data"
    }
   ],
   "source": [
    "line = coef*X + intercept\n",
    "plt.plot(X, y, \"o\", X, line, \"r-\")\n",
    "plt.xlabel(\"Mean Acousticness\")\n",
    "plt.ylabel(\"Mean Danceability\")\n",
    "plt.title(\"Playlist Acousticness vs Danceability\")\n",
    "plt.savefig(\"acousticness_danceability_plot.png\")\n",
    "plt.show()"
   ]
  },
  {
   "cell_type": "code",
   "execution_count": null,
   "metadata": {},
   "outputs": [],
   "source": []
  }
 ],
 "metadata": {
  "kernelspec": {
   "display_name": "Python 3",
   "language": "python",
   "name": "python3"
  },
  "language_info": {
   "codemirror_mode": {
    "name": "ipython",
    "version": 3
   },
   "file_extension": ".py",
   "mimetype": "text/x-python",
   "name": "python",
   "nbconvert_exporter": "python",
   "pygments_lexer": "ipython3",
   "version": "3.7.0"
  }
 },
 "nbformat": 4,
 "nbformat_minor": 2
}
